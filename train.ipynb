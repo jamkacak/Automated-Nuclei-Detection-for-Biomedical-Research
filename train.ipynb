{
 "cells": [
  {
   "cell_type": "code",
   "execution_count": null,
   "metadata": {},
   "outputs": [],
   "source": [
    "#1. Import packages\n",
    "import tensorflow as tf\n",
    "import keras\n",
    "import tensorboard\n",
    "from tensorflow_examples.models.pix2pix import pix2pix\n",
    "from IPython.display import clear_output\n",
    "import matplotlib.pyplot as plt\n",
    "import cv2\n",
    "import numpy as np\n",
    "import glob, os\n",
    "\n",
    "filepath = \"dataset\"\n",
    "images = []\n",
    "masks = []"
   ]
  },
  {
   "cell_type": "code",
   "execution_count": null,
   "metadata": {},
   "outputs": [],
   "source": [
    "#Use os.listdir() method to list down all the image file, then use a for loop to read the images.\n",
    "\"\"\"\n",
    "for ____ in os.listdir(____):\n",
    "    function you will use here:\n",
    "    os.path.join()\n",
    "    cv2.imread()\n",
    "    cv2.cvtColor()\n",
    "    cv2.resize()\n",
    "\n",
    "Use this for loop, do the same thing for the label. But I suggest you read the label as a grayscale image.\n",
    "\"\"\"\n",
    "\n",
    "#2. Load images for train\n",
    "image_path = os.path.join(filepath,'train','inputs')\n",
    "for img in os.listdir(image_path):\n",
    "    #Get the full path of the image file\n",
    "    full_path = os.path.join(image_path,img)\n",
    "    #Read the image file based on the full path\n",
    "    train_img_np = cv2.imread(full_path)\n",
    "    #Convert the image from bgr to rgb\n",
    "    train_img_np = cv2.cvtColor(train_img_np,cv2.COLOR_BGR2RGB)\n",
    "    #Resize the image into 128x128\n",
    "    train_img_np = cv2.resize(train_img_np,(128,128))\n",
    "    #Place the image into the empty list\n",
    "    images.append(train_img_np)\n",
    "\n",
    "# load images for test\n",
    "image_path = os.path.join(filepath,'test','inputs')\n",
    "for img in os.listdir(image_path):\n",
    "    #Get the full path of the image file\n",
    "    full_path = os.path.join(image_path,img)\n",
    "    #Read the image file based on the full path\n",
    "    test_img_np = cv2.imread(full_path)\n",
    "    #Convert the image from bgr to rgb\n",
    "    test_img_np = cv2.cvtColor(test_img_np,cv2.COLOR_BGR2RGB)\n",
    "    #Resize the image into 128x128\n",
    "    test_img_np = cv2.resize(test_img_np,(128,128))\n",
    "    #Place the image into the empty list\n",
    "    images.append(test_img_np)\n",
    "\n",
    "#3. Load masks for train\n",
    "mask_path = os.path.join(filepath,'train','masks')\n",
    "for mask in os.listdir(mask_path):\n",
    "    #Get the full path of the mask file\n",
    "    full_path = os.path.join(mask_path,mask)\n",
    "    #Read the mask file as a grayscale image\n",
    "    train_mask_np = cv2.imread(full_path,cv2.IMREAD_GRAYSCALE)\n",
    "    #Resize the image into 128x128\n",
    "    train_mask_np = cv2.resize(train_mask_np,(128,128))\n",
    "    #Place the mask into the empty list\n",
    "    masks.append(train_mask_np)\n",
    "    \n",
    "# Load masks for test\n",
    "mask_path = os.path.join(filepath,'test','masks')\n",
    "for mask in os.listdir(mask_path):\n",
    "    #Get the full path of the mask file\n",
    "    full_path = os.path.join(mask_path,mask)\n",
    "    #Read the mask file as a grayscale image\n",
    "    test_mask_np = cv2.imread(full_path,cv2.IMREAD_GRAYSCALE)\n",
    "    #Resize the image into 128x128\n",
    "    test_mask_np = cv2.resize(test_mask_np,(128,128))\n",
    "    #Place the mask into the empty list\n",
    "    masks.append(test_mask_np)"
   ]
  },
  {
   "cell_type": "code",
   "execution_count": null,
   "metadata": {},
   "outputs": [],
   "source": [
    "#4. Convert the list of np array into a full np array\n",
    "images_np = np.array(images)\n",
    "masks_np = np.array(masks)"
   ]
  },
  {
   "cell_type": "code",
   "execution_count": null,
   "metadata": {},
   "outputs": [],
   "source": [
    "#5. Data preprocessing\n",
    "#5.1. Expand the mask dimension to include the channel axis\n",
    "masks_np_exp = np.expand_dims(masks_np,axis=-1)\n",
    "#5.2. Convert the mask value into just 0 and 1\n",
    "converted_masks_np = np.round(masks_np_exp/255)\n",
    "#5.3. Normalize the images pixel value\n",
    "normalized_images_np = images_np/255.0"
   ]
  },
  {
   "cell_type": "code",
   "execution_count": null,
   "metadata": {},
   "outputs": [],
   "source": [
    "#6. Perform train test split\n",
    "from sklearn.model_selection import train_test_split\n",
    "SEED = 12345\n",
    "X_train,X_test,y_train,y_test = train_test_split(normalized_images_np,converted_masks_np,shuffle=True,random_state=SEED)"
   ]
  },
  {
   "cell_type": "code",
   "execution_count": null,
   "metadata": {},
   "outputs": [],
   "source": [
    "#7. Convert the numpy array into tensorflow tensors\n",
    "X_train_tensor = tf.data.Dataset.from_tensor_slices(X_train)\n",
    "X_test_tensor = tf.data.Dataset.from_tensor_slices(X_test)\n",
    "y_train_tensor = tf.data.Dataset.from_tensor_slices(y_train)\n",
    "y_test_tensor = tf.data.Dataset.from_tensor_slices(y_test)"
   ]
  },
  {
   "cell_type": "code",
   "execution_count": null,
   "metadata": {},
   "outputs": [],
   "source": [
    "#8. Combine features and labels together to form a zip dataset\n",
    "train = tf.data.Dataset.zip((X_train_tensor,y_train_tensor))\n",
    "test = tf.data.Dataset.zip((X_test_tensor,y_test_tensor))"
   ]
  },
  {
   "cell_type": "code",
   "execution_count": null,
   "metadata": {},
   "outputs": [],
   "source": [
    "TRAIN_LENGTH = 502\n",
    "BATCH_SIZE = 64\n",
    "BUFFER_SIZE = 1000\n",
    "STEPS_PER_EPOCH = TRAIN_LENGTH // BATCH_SIZE"
   ]
  },
  {
   "cell_type": "code",
   "execution_count": null,
   "metadata": {},
   "outputs": [],
   "source": [
    "# create an augmentation\n",
    "class Augment(tf.keras.layers.Layer):\n",
    "  def __init__(self, seed=42):\n",
    "    super().__init__()\n",
    "    # both use the same seed, so they'll make the same random changes.\n",
    "    self.augment_inputs = tf.keras.layers.RandomFlip(mode=\"horizontal\", seed=seed)\n",
    "    self.augment_labels = tf.keras.layers.RandomFlip(mode=\"horizontal\", seed=seed)\n",
    "\n",
    "  def call(self, inputs, labels):\n",
    "    inputs = self.augment_inputs(inputs)\n",
    "    labels = self.augment_labels(labels)\n",
    "    return inputs, labels"
   ]
  },
  {
   "cell_type": "code",
   "execution_count": null,
   "metadata": {},
   "outputs": [],
   "source": [
    "train_batches = (\n",
    "    train\n",
    "    .cache()\n",
    "    .shuffle(BUFFER_SIZE)\n",
    "    .batch(BATCH_SIZE)\n",
    "    .repeat()\n",
    "    .map(Augment())\n",
    "    .prefetch(buffer_size=tf.data.AUTOTUNE))\n",
    "\n",
    "test_batches = test.batch(BATCH_SIZE)"
   ]
  },
  {
   "cell_type": "code",
   "execution_count": null,
   "metadata": {},
   "outputs": [],
   "source": [
    "def display(display_list):\n",
    "  plt.figure(figsize=(15, 15))\n",
    "\n",
    "  title = ['Input Image', 'True Mask', 'Predicted Mask']\n",
    "\n",
    "  for i in range(len(display_list)):\n",
    "    plt.subplot(1, len(display_list), i+1)\n",
    "    plt.title(title[i])\n",
    "    plt.imshow(tf.keras.utils.array_to_img(display_list[i]))\n",
    "    plt.axis('off')\n",
    "  plt.show()"
   ]
  },
  {
   "cell_type": "code",
   "execution_count": null,
   "metadata": {},
   "outputs": [],
   "source": [
    "for images, masks in train_batches.take(2):\n",
    "  sample_image, sample_mask = images[0], masks[0]\n",
    "  display([sample_image, sample_mask])"
   ]
  },
  {
   "cell_type": "code",
   "execution_count": null,
   "metadata": {},
   "outputs": [],
   "source": [
    "base_model = tf.keras.applications.MobileNetV2(input_shape=[128, 128, 3], include_top=False)\n",
    "\n",
    "# Use the activations of these layers\n",
    "layer_names = [\n",
    "    'block_1_expand_relu',   # 64x64\n",
    "    'block_3_expand_relu',   # 32x32\n",
    "    'block_6_expand_relu',   # 16x16\n",
    "    'block_13_expand_relu',  # 8x8\n",
    "    'block_16_project',      # 4x4\n",
    "]\n",
    "base_model_outputs = [base_model.get_layer(name).output for name in layer_names]\n",
    "\n",
    "# Create the feature extraction model\n",
    "down_stack = tf.keras.Model(inputs=base_model.input, outputs=base_model_outputs)\n",
    "\n",
    "down_stack.trainable = False"
   ]
  },
  {
   "cell_type": "code",
   "execution_count": null,
   "metadata": {},
   "outputs": [],
   "source": [
    "up_stack = [\n",
    "    pix2pix.upsample(512, 3),  # 4x4 -> 8x8\n",
    "    pix2pix.upsample(256, 3),  # 8x8 -> 16x16\n",
    "    pix2pix.upsample(128, 3),  # 16x16 -> 32x32\n",
    "    pix2pix.upsample(64, 3),   # 32x32 -> 64x64\n",
    "]"
   ]
  },
  {
   "cell_type": "code",
   "execution_count": null,
   "metadata": {},
   "outputs": [],
   "source": [
    "def unet_model(output_channels:int):\n",
    "  inputs = tf.keras.layers.Input(shape=[128, 128, 3])\n",
    "\n",
    "  # Downsampling through the model\n",
    "  skips = down_stack(inputs)\n",
    "  x = skips[-1]\n",
    "  skips = reversed(skips[:-1])\n",
    "\n",
    "  # Upsampling and establishing the skip connections\n",
    "  for up, skip in zip(up_stack, skips):\n",
    "    x = up(x)\n",
    "    concat = tf.keras.layers.Concatenate()\n",
    "    x = concat([x, skip])\n",
    "\n",
    "  # This is the last layer of the model\n",
    "  last = tf.keras.layers.Conv2DTranspose(\n",
    "      filters=output_channels, kernel_size=3, strides=2,\n",
    "      padding='same')  #64x64 -> 128x128\n",
    "\n",
    "  x = last(x)\n",
    "\n",
    "  return tf.keras.Model(inputs=inputs, outputs=x)"
   ]
  },
  {
   "cell_type": "code",
   "execution_count": null,
   "metadata": {},
   "outputs": [],
   "source": [
    "OUTPUT_CLASSES = 2\n",
    "\n",
    "model = unet_model(output_channels=OUTPUT_CLASSES)\n",
    "model.compile(optimizer='adam',\n",
    "              loss=tf.keras.losses.SparseCategoricalCrossentropy(from_logits=True),\n",
    "              metrics=['accuracy'])"
   ]
  },
  {
   "cell_type": "code",
   "execution_count": null,
   "metadata": {},
   "outputs": [],
   "source": [
    "tf.keras.utils.plot_model(model)"
   ]
  },
  {
   "cell_type": "code",
   "execution_count": null,
   "metadata": {},
   "outputs": [],
   "source": [
    "model.summary()"
   ]
  },
  {
   "cell_type": "code",
   "execution_count": null,
   "metadata": {},
   "outputs": [],
   "source": [
    "def create_mask(pred_mask):\n",
    "  pred_mask = tf.math.argmax(pred_mask, axis=-1)\n",
    "  pred_mask = pred_mask[..., tf.newaxis]\n",
    "  return pred_mask[0]"
   ]
  },
  {
   "cell_type": "code",
   "execution_count": null,
   "metadata": {},
   "outputs": [],
   "source": [
    "def show_predictions(dataset=None, num=1):\n",
    "  if dataset:\n",
    "    for image, mask in dataset.take(num):\n",
    "      pred_mask = model.predict(image)\n",
    "      display([image[0], mask[0], create_mask(pred_mask)])\n",
    "  else:\n",
    "    display([sample_image, sample_mask,\n",
    "             create_mask(model.predict(sample_image[tf.newaxis, ...]))])"
   ]
  },
  {
   "cell_type": "code",
   "execution_count": null,
   "metadata": {},
   "outputs": [],
   "source": [
    "show_predictions()"
   ]
  },
  {
   "cell_type": "code",
   "execution_count": null,
   "metadata": {},
   "outputs": [],
   "source": [
    "class DisplayCallback(tf.keras.callbacks.Callback):\n",
    "  def on_epoch_end(self, epoch, logs=None):\n",
    "    clear_output(wait=True)\n",
    "    show_predictions()\n",
    "    print ('\\nSample Prediction after epoch {}\\n'.format(epoch+1))"
   ]
  },
  {
   "cell_type": "code",
   "execution_count": null,
   "metadata": {},
   "outputs": [],
   "source": [
    "# to help log tensorboard\n",
    "import datetime\n",
    "timestamp = datetime.datetime.now().strftime(\"%Y%m%d-%H%M%S\")"
   ]
  },
  {
   "cell_type": "code",
   "execution_count": null,
   "metadata": {},
   "outputs": [],
   "source": [
    "EPOCHS = 50\n",
    "VAL_SUBSPLITS = 5\n",
    "VALIDATION_STEPS = 502//BATCH_SIZE//VAL_SUBSPLITS\n",
    "log_path = f'logs/{timestamp}/'\n",
    "ts = keras.callbacks.TensorBoard(log_dir=log_path)  \n",
    "es = keras.callbacks.EarlyStopping(patience=5, verbose=1)\n",
    "model_history = model.fit(train_batches, epochs=EPOCHS,\n",
    "                          steps_per_epoch=STEPS_PER_EPOCH,\n",
    "                          validation_steps=VALIDATION_STEPS,\n",
    "                          validation_data=test_batches,\n",
    "                          callbacks=[DisplayCallback(),ts,es])"
   ]
  },
  {
   "cell_type": "code",
   "execution_count": null,
   "metadata": {},
   "outputs": [],
   "source": [
    "loss = model_history.history['loss']\n",
    "val_loss = model_history.history['val_loss']\n",
    "\n",
    "plt.figure()\n",
    "plt.plot(model_history.epoch, loss, 'r', label='Training loss')\n",
    "plt.plot(model_history.epoch, val_loss, 'bo', label='Validation loss')\n",
    "plt.title('Training and Validation Loss')\n",
    "plt.xlabel('Epoch')\n",
    "plt.ylabel('Loss Value')\n",
    "plt.ylim([0, 1])\n",
    "plt.legend()\n",
    "plt.show()"
   ]
  },
  {
   "cell_type": "code",
   "execution_count": null,
   "metadata": {},
   "outputs": [],
   "source": [
    "show_predictions(test_batches, 3)"
   ]
  },
  {
   "cell_type": "code",
   "execution_count": null,
   "metadata": {},
   "outputs": [],
   "source": [
    "model.save('model/weight.keras')"
   ]
  }
 ],
 "metadata": {
  "kernelspec": {
   "display_name": "machinelearning",
   "language": "python",
   "name": "python3"
  },
  "language_info": {
   "codemirror_mode": {
    "name": "ipython",
    "version": 3
   },
   "file_extension": ".py",
   "mimetype": "text/x-python",
   "name": "python",
   "nbconvert_exporter": "python",
   "pygments_lexer": "ipython3",
   "version": "3.12.8"
  }
 },
 "nbformat": 4,
 "nbformat_minor": 2
}
